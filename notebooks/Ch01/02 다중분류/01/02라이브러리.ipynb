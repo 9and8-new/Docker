{
 "cells": [
  {
   "cell_type": "code",
   "execution_count": null,
   "id": "17b96160-0211-432d-b29f-39dbc5ca0363",
   "metadata": {},
   "outputs": [],
   "source": [
    "#----------------\n",
    "# 라이브러리 가져오기\n",
    "# ---------------"
   ]
  },
  {
   "cell_type": "code",
   "execution_count": null,
   "id": "a84cac3c-d9b1-4b91-864a-a5a742f37319",
   "metadata": {},
   "outputs": [],
   "source": [
    "import pandas as pd\n",
    "\n",
    "trian = pd.read_csv(\"./train.csv\")\n",
    "test = pd.read_csv(\"./test.csv\")"
   ]
  }
 ],
 "metadata": {
  "kernelspec": {
   "display_name": "Python 3 (ipykernel)",
   "language": "python",
   "name": "python3"
  },
  "language_info": {
   "codemirror_mode": {
    "name": "ipython",
    "version": 3
   },
   "file_extension": ".py",
   "mimetype": "text/x-python",
   "name": "python",
   "nbconvert_exporter": "python",
   "pygments_lexer": "ipython3",
   "version": "3.11.6"
  }
 },
 "nbformat": 4,
 "nbformat_minor": 5
}
