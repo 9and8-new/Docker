{
 "cells": [
  {
   "cell_type": "code",
   "execution_count": 1,
   "id": "0c33afbc-ceb5-4ef2-958a-a0ef4376b6aa",
   "metadata": {},
   "outputs": [],
   "source": [
    "# 문제정의\n",
    "## 고객별 신용등급 분류\n",
    "## 1- BAD , 2 - STANDARD 3 - GOOD\n",
    "## 타깃(라벨,y값) : Credit_Score\n"
   ]
  },
  {
   "cell_type": "code",
   "execution_count": 2,
   "id": "b1100dd1-6986-45f9-887b-d5a7f54f63cf",
   "metadata": {},
   "outputs": [],
   "source": [
    "#----------------\n",
    "# 라이브러리 가져오기\n",
    "# ---------------"
   ]
  },
  {
   "cell_type": "code",
   "execution_count": 4,
   "id": "4dba3160-eec9-43a9-8dd0-a1b258bff3a2",
   "metadata": {},
   "outputs": [],
   "source": [
    "import pandas as pd\n",
    "\n",
    "trian = pd.read_csv(\"./train.csv\")\n",
    "test = pd.read_csv(\"./test.csv\")"
   ]
  }
 ],
 "metadata": {
  "kernelspec": {
   "display_name": "Python 3 (ipykernel)",
   "language": "python",
   "name": "python3"
  },
  "language_info": {
   "codemirror_mode": {
    "name": "ipython",
    "version": 3
   },
   "file_extension": ".py",
   "mimetype": "text/x-python",
   "name": "python",
   "nbconvert_exporter": "python",
   "pygments_lexer": "ipython3",
   "version": "3.11.6"
  }
 },
 "nbformat": 4,
 "nbformat_minor": 5
}
