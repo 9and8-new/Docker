{
 "cells": [
  {
   "cell_type": "code",
   "execution_count": null,
   "id": "8765983a-d43b-4e56-8185-2e7bd5a0ba2a",
   "metadata": {},
   "outputs": [],
   "source": [
    "# ---------------\n",
    "# 문제정의\n",
    "# ---------------"
   ]
  },
  {
   "cell_type": "code",
   "execution_count": 1,
   "id": "6a4d10fc-14d4-4f82-8efb-77ad49f45759",
   "metadata": {},
   "outputs": [],
   "source": [
    "# 라이브러리 가져오기\n",
    "\n",
    "#원본데이터를 가져올때 이데이터로 무엇을할지 고민하기"
   ]
  },
  {
   "cell_type": "code",
   "execution_count": 1,
   "id": "289ed29e-ceef-48ab-b6de-96120e7e6fd9",
   "metadata": {},
   "outputs": [],
   "source": [
    "import pandas as pd\n",
    "\n",
    "train = pd.read_csv(\"./train.csv\")\n",
    "test = pd.read_csv(\"./test.csv\")"
   ]
  },
  {
   "cell_type": "code",
   "execution_count": 2,
   "id": "130fe9e2-c633-4cae-890c-a8cc0b650098",
   "metadata": {},
   "outputs": [
    {
     "data": {
      "text/plain": [
       "((20758, 18), (13840, 17))"
      ]
     },
     "execution_count": 2,
     "metadata": {},
     "output_type": "execute_result"
    }
   ],
   "source": [
    "# ---------------\n",
    "# EDA\n",
    "# ---------------\n",
    "train.shape,test.shape"
   ]
  },
  {
   "cell_type": "code",
   "execution_count": 3,
   "id": "5228e847-98d6-4168-a3f4-ff8dac735d56",
   "metadata": {},
   "outputs": [
    {
     "name": "stdout",
     "output_type": "stream",
     "text": [
      "<class 'pandas.core.frame.DataFrame'>\n",
      "RangeIndex: 20758 entries, 0 to 20757\n",
      "Data columns (total 18 columns):\n",
      " #   Column                          Non-Null Count  Dtype  \n",
      "---  ------                          --------------  -----  \n",
      " 0   id                              20758 non-null  int64  \n",
      " 1   Gender                          20758 non-null  object \n",
      " 2   Age                             20758 non-null  float64\n",
      " 3   Height                          20758 non-null  float64\n",
      " 4   Weight                          20758 non-null  float64\n",
      " 5   family_history_with_overweight  20758 non-null  object \n",
      " 6   FAVC                            20758 non-null  object \n",
      " 7   FCVC                            20758 non-null  float64\n",
      " 8   NCP                             20758 non-null  float64\n",
      " 9   CAEC                            20758 non-null  object \n",
      " 10  SMOKE                           20758 non-null  object \n",
      " 11  CH2O                            20758 non-null  float64\n",
      " 12  SCC                             20758 non-null  object \n",
      " 13  FAF                             20758 non-null  float64\n",
      " 14  TUE                             20758 non-null  float64\n",
      " 15  CALC                            20758 non-null  object \n",
      " 16  MTRANS                          20758 non-null  object \n",
      " 17  NObeyesdad                      20758 non-null  object \n",
      "dtypes: float64(8), int64(1), object(9)\n",
      "memory usage: 2.9+ MB\n",
      "<class 'pandas.core.frame.DataFrame'>\n",
      "RangeIndex: 13840 entries, 0 to 13839\n",
      "Data columns (total 17 columns):\n",
      " #   Column                          Non-Null Count  Dtype  \n",
      "---  ------                          --------------  -----  \n",
      " 0   id                              13840 non-null  int64  \n",
      " 1   Gender                          13840 non-null  object \n",
      " 2   Age                             13840 non-null  float64\n",
      " 3   Height                          13840 non-null  float64\n",
      " 4   Weight                          13840 non-null  float64\n",
      " 5   family_history_with_overweight  13840 non-null  object \n",
      " 6   FAVC                            13840 non-null  object \n",
      " 7   FCVC                            13840 non-null  float64\n",
      " 8   NCP                             13840 non-null  float64\n",
      " 9   CAEC                            13840 non-null  object \n",
      " 10  SMOKE                           13840 non-null  object \n",
      " 11  CH2O                            13840 non-null  float64\n",
      " 12  SCC                             13840 non-null  object \n",
      " 13  FAF                             13840 non-null  float64\n",
      " 14  TUE                             13840 non-null  float64\n",
      " 15  CALC                            13840 non-null  object \n",
      " 16  MTRANS                          13840 non-null  object \n",
      "dtypes: float64(8), int64(1), object(8)\n",
      "memory usage: 1.8+ MB\n"
     ]
    }
   ],
   "source": [
    "train.info()\n",
    "test.info()\n",
    "# 끝에 없는값이 y값이 된다.\n",
    "\n"
   ]
  },
  {
   "cell_type": "code",
   "execution_count": 35,
   "id": "72647d46-6d92-45f3-a709-559d288d56cb",
   "metadata": {},
   "outputs": [
    {
     "data": {
      "text/plain": [
       "Gender                            0\n",
       "Age                               0\n",
       "Height                            0\n",
       "Weight                            0\n",
       "family_history_with_overweight    0\n",
       "FAVC                              0\n",
       "FCVC                              0\n",
       "NCP                               0\n",
       "CAEC                              0\n",
       "SMOKE                             0\n",
       "CH2O                              0\n",
       "SCC                               0\n",
       "FAF                               0\n",
       "TUE                               0\n",
       "CALC                              0\n",
       "MTRANS                            0\n",
       "dtype: int64"
      ]
     },
     "execution_count": 35,
     "metadata": {},
     "output_type": "execute_result"
    }
   ],
   "source": [
    "# 결측값 확인\n",
    "train.isnull().sum()\n",
    "test.isnull().sum()\n"
   ]
  },
  {
   "cell_type": "code",
   "execution_count": 36,
   "id": "1612315c-1bf3-40ce-80d2-c4805fc504d3",
   "metadata": {},
   "outputs": [
    {
     "ename": "ValueError",
     "evalue": "No objects to concatenate",
     "output_type": "error",
     "traceback": [
      "\u001b[0;31m---------------------------------------------------------------------------\u001b[0m",
      "\u001b[0;31mValueError\u001b[0m                                Traceback (most recent call last)",
      "Cell \u001b[0;32mIn[36], line 3\u001b[0m\n\u001b[1;32m      1\u001b[0m \u001b[38;5;66;03m# 이상치 유무 확인\u001b[39;00m\n\u001b[1;32m      2\u001b[0m train\u001b[38;5;241m.\u001b[39mdescribe()\n\u001b[0;32m----> 3\u001b[0m \u001b[43mtrain\u001b[49m\u001b[38;5;241;43m.\u001b[39;49m\u001b[43mdescribe\u001b[49m\u001b[43m(\u001b[49m\u001b[43minclude\u001b[49m\u001b[38;5;241;43m=\u001b[39;49m\u001b[38;5;124;43m'\u001b[39;49m\u001b[38;5;124;43mO\u001b[39;49m\u001b[38;5;124;43m'\u001b[39;49m\u001b[43m)\u001b[49m\n",
      "File \u001b[0;32m/opt/conda/lib/python3.11/site-packages/pandas/core/generic.py:11540\u001b[0m, in \u001b[0;36mNDFrame.describe\u001b[0;34m(self, percentiles, include, exclude)\u001b[0m\n\u001b[1;32m  11298\u001b[0m \u001b[38;5;129m@final\u001b[39m\n\u001b[1;32m  11299\u001b[0m \u001b[38;5;28;01mdef\u001b[39;00m \u001b[38;5;21mdescribe\u001b[39m(\n\u001b[1;32m  11300\u001b[0m     \u001b[38;5;28mself\u001b[39m,\n\u001b[0;32m   (...)\u001b[0m\n\u001b[1;32m  11303\u001b[0m     exclude\u001b[38;5;241m=\u001b[39m\u001b[38;5;28;01mNone\u001b[39;00m,\n\u001b[1;32m  11304\u001b[0m ) \u001b[38;5;241m-\u001b[39m\u001b[38;5;241m>\u001b[39m Self:\n\u001b[1;32m  11305\u001b[0m \u001b[38;5;250m    \u001b[39m\u001b[38;5;124;03m\"\"\"\u001b[39;00m\n\u001b[1;32m  11306\u001b[0m \u001b[38;5;124;03m    Generate descriptive statistics.\u001b[39;00m\n\u001b[1;32m  11307\u001b[0m \n\u001b[0;32m   (...)\u001b[0m\n\u001b[1;32m  11538\u001b[0m \u001b[38;5;124;03m    max            NaN      3.0\u001b[39;00m\n\u001b[1;32m  11539\u001b[0m \u001b[38;5;124;03m    \"\"\"\u001b[39;00m\n\u001b[0;32m> 11540\u001b[0m     \u001b[38;5;28;01mreturn\u001b[39;00m \u001b[43mdescribe_ndframe\u001b[49m\u001b[43m(\u001b[49m\n\u001b[1;32m  11541\u001b[0m \u001b[43m        \u001b[49m\u001b[43mobj\u001b[49m\u001b[38;5;241;43m=\u001b[39;49m\u001b[38;5;28;43mself\u001b[39;49m\u001b[43m,\u001b[49m\n\u001b[1;32m  11542\u001b[0m \u001b[43m        \u001b[49m\u001b[43minclude\u001b[49m\u001b[38;5;241;43m=\u001b[39;49m\u001b[43minclude\u001b[49m\u001b[43m,\u001b[49m\n\u001b[1;32m  11543\u001b[0m \u001b[43m        \u001b[49m\u001b[43mexclude\u001b[49m\u001b[38;5;241;43m=\u001b[39;49m\u001b[43mexclude\u001b[49m\u001b[43m,\u001b[49m\n\u001b[1;32m  11544\u001b[0m \u001b[43m        \u001b[49m\u001b[43mpercentiles\u001b[49m\u001b[38;5;241;43m=\u001b[39;49m\u001b[43mpercentiles\u001b[49m\u001b[43m,\u001b[49m\n\u001b[1;32m  11545\u001b[0m \u001b[43m    \u001b[49m\u001b[43m)\u001b[49m\u001b[38;5;241m.\u001b[39m__finalize__(\u001b[38;5;28mself\u001b[39m, method\u001b[38;5;241m=\u001b[39m\u001b[38;5;124m\"\u001b[39m\u001b[38;5;124mdescribe\u001b[39m\u001b[38;5;124m\"\u001b[39m)\n",
      "File \u001b[0;32m/opt/conda/lib/python3.11/site-packages/pandas/core/methods/describe.py:97\u001b[0m, in \u001b[0;36mdescribe_ndframe\u001b[0;34m(obj, include, exclude, percentiles)\u001b[0m\n\u001b[1;32m     90\u001b[0m \u001b[38;5;28;01melse\u001b[39;00m:\n\u001b[1;32m     91\u001b[0m     describer \u001b[38;5;241m=\u001b[39m DataFrameDescriber(\n\u001b[1;32m     92\u001b[0m         obj\u001b[38;5;241m=\u001b[39mcast(\u001b[38;5;124m\"\u001b[39m\u001b[38;5;124mDataFrame\u001b[39m\u001b[38;5;124m\"\u001b[39m, obj),\n\u001b[1;32m     93\u001b[0m         include\u001b[38;5;241m=\u001b[39minclude,\n\u001b[1;32m     94\u001b[0m         exclude\u001b[38;5;241m=\u001b[39mexclude,\n\u001b[1;32m     95\u001b[0m     )\n\u001b[0;32m---> 97\u001b[0m result \u001b[38;5;241m=\u001b[39m \u001b[43mdescriber\u001b[49m\u001b[38;5;241;43m.\u001b[39;49m\u001b[43mdescribe\u001b[49m\u001b[43m(\u001b[49m\u001b[43mpercentiles\u001b[49m\u001b[38;5;241;43m=\u001b[39;49m\u001b[43mpercentiles\u001b[49m\u001b[43m)\u001b[49m\n\u001b[1;32m     98\u001b[0m \u001b[38;5;28;01mreturn\u001b[39;00m cast(NDFrameT, result)\n",
      "File \u001b[0;32m/opt/conda/lib/python3.11/site-packages/pandas/core/methods/describe.py:173\u001b[0m, in \u001b[0;36mDataFrameDescriber.describe\u001b[0;34m(self, percentiles)\u001b[0m\n\u001b[1;32m    170\u001b[0m     ldesc\u001b[38;5;241m.\u001b[39mappend(describe_func(series, percentiles))\n\u001b[1;32m    172\u001b[0m col_names \u001b[38;5;241m=\u001b[39m reorder_columns(ldesc)\n\u001b[0;32m--> 173\u001b[0m d \u001b[38;5;241m=\u001b[39m \u001b[43mconcat\u001b[49m\u001b[43m(\u001b[49m\n\u001b[1;32m    174\u001b[0m \u001b[43m    \u001b[49m\u001b[43m[\u001b[49m\u001b[43mx\u001b[49m\u001b[38;5;241;43m.\u001b[39;49m\u001b[43mreindex\u001b[49m\u001b[43m(\u001b[49m\u001b[43mcol_names\u001b[49m\u001b[43m,\u001b[49m\u001b[43m \u001b[49m\u001b[43mcopy\u001b[49m\u001b[38;5;241;43m=\u001b[39;49m\u001b[38;5;28;43;01mFalse\u001b[39;49;00m\u001b[43m)\u001b[49m\u001b[43m \u001b[49m\u001b[38;5;28;43;01mfor\u001b[39;49;00m\u001b[43m \u001b[49m\u001b[43mx\u001b[49m\u001b[43m \u001b[49m\u001b[38;5;129;43;01min\u001b[39;49;00m\u001b[43m \u001b[49m\u001b[43mldesc\u001b[49m\u001b[43m]\u001b[49m\u001b[43m,\u001b[49m\n\u001b[1;32m    175\u001b[0m \u001b[43m    \u001b[49m\u001b[43maxis\u001b[49m\u001b[38;5;241;43m=\u001b[39;49m\u001b[38;5;241;43m1\u001b[39;49m\u001b[43m,\u001b[49m\n\u001b[1;32m    176\u001b[0m \u001b[43m    \u001b[49m\u001b[43msort\u001b[49m\u001b[38;5;241;43m=\u001b[39;49m\u001b[38;5;28;43;01mFalse\u001b[39;49;00m\u001b[43m,\u001b[49m\n\u001b[1;32m    177\u001b[0m \u001b[43m\u001b[49m\u001b[43m)\u001b[49m\n\u001b[1;32m    178\u001b[0m d\u001b[38;5;241m.\u001b[39mcolumns \u001b[38;5;241m=\u001b[39m data\u001b[38;5;241m.\u001b[39mcolumns\u001b[38;5;241m.\u001b[39mcopy()\n\u001b[1;32m    179\u001b[0m \u001b[38;5;28;01mreturn\u001b[39;00m d\n",
      "File \u001b[0;32m/opt/conda/lib/python3.11/site-packages/pandas/core/reshape/concat.py:380\u001b[0m, in \u001b[0;36mconcat\u001b[0;34m(objs, axis, join, ignore_index, keys, levels, names, verify_integrity, sort, copy)\u001b[0m\n\u001b[1;32m    377\u001b[0m \u001b[38;5;28;01melif\u001b[39;00m copy \u001b[38;5;129;01mand\u001b[39;00m using_copy_on_write():\n\u001b[1;32m    378\u001b[0m     copy \u001b[38;5;241m=\u001b[39m \u001b[38;5;28;01mFalse\u001b[39;00m\n\u001b[0;32m--> 380\u001b[0m op \u001b[38;5;241m=\u001b[39m \u001b[43m_Concatenator\u001b[49m\u001b[43m(\u001b[49m\n\u001b[1;32m    381\u001b[0m \u001b[43m    \u001b[49m\u001b[43mobjs\u001b[49m\u001b[43m,\u001b[49m\n\u001b[1;32m    382\u001b[0m \u001b[43m    \u001b[49m\u001b[43maxis\u001b[49m\u001b[38;5;241;43m=\u001b[39;49m\u001b[43maxis\u001b[49m\u001b[43m,\u001b[49m\n\u001b[1;32m    383\u001b[0m \u001b[43m    \u001b[49m\u001b[43mignore_index\u001b[49m\u001b[38;5;241;43m=\u001b[39;49m\u001b[43mignore_index\u001b[49m\u001b[43m,\u001b[49m\n\u001b[1;32m    384\u001b[0m \u001b[43m    \u001b[49m\u001b[43mjoin\u001b[49m\u001b[38;5;241;43m=\u001b[39;49m\u001b[43mjoin\u001b[49m\u001b[43m,\u001b[49m\n\u001b[1;32m    385\u001b[0m \u001b[43m    \u001b[49m\u001b[43mkeys\u001b[49m\u001b[38;5;241;43m=\u001b[39;49m\u001b[43mkeys\u001b[49m\u001b[43m,\u001b[49m\n\u001b[1;32m    386\u001b[0m \u001b[43m    \u001b[49m\u001b[43mlevels\u001b[49m\u001b[38;5;241;43m=\u001b[39;49m\u001b[43mlevels\u001b[49m\u001b[43m,\u001b[49m\n\u001b[1;32m    387\u001b[0m \u001b[43m    \u001b[49m\u001b[43mnames\u001b[49m\u001b[38;5;241;43m=\u001b[39;49m\u001b[43mnames\u001b[49m\u001b[43m,\u001b[49m\n\u001b[1;32m    388\u001b[0m \u001b[43m    \u001b[49m\u001b[43mverify_integrity\u001b[49m\u001b[38;5;241;43m=\u001b[39;49m\u001b[43mverify_integrity\u001b[49m\u001b[43m,\u001b[49m\n\u001b[1;32m    389\u001b[0m \u001b[43m    \u001b[49m\u001b[43mcopy\u001b[49m\u001b[38;5;241;43m=\u001b[39;49m\u001b[43mcopy\u001b[49m\u001b[43m,\u001b[49m\n\u001b[1;32m    390\u001b[0m \u001b[43m    \u001b[49m\u001b[43msort\u001b[49m\u001b[38;5;241;43m=\u001b[39;49m\u001b[43msort\u001b[49m\u001b[43m,\u001b[49m\n\u001b[1;32m    391\u001b[0m \u001b[43m\u001b[49m\u001b[43m)\u001b[49m\n\u001b[1;32m    393\u001b[0m \u001b[38;5;28;01mreturn\u001b[39;00m op\u001b[38;5;241m.\u001b[39mget_result()\n",
      "File \u001b[0;32m/opt/conda/lib/python3.11/site-packages/pandas/core/reshape/concat.py:443\u001b[0m, in \u001b[0;36m_Concatenator.__init__\u001b[0;34m(self, objs, axis, join, keys, levels, names, ignore_index, verify_integrity, copy, sort)\u001b[0m\n\u001b[1;32m    440\u001b[0m \u001b[38;5;28mself\u001b[39m\u001b[38;5;241m.\u001b[39mverify_integrity \u001b[38;5;241m=\u001b[39m verify_integrity\n\u001b[1;32m    441\u001b[0m \u001b[38;5;28mself\u001b[39m\u001b[38;5;241m.\u001b[39mcopy \u001b[38;5;241m=\u001b[39m copy\n\u001b[0;32m--> 443\u001b[0m objs, keys \u001b[38;5;241m=\u001b[39m \u001b[38;5;28;43mself\u001b[39;49m\u001b[38;5;241;43m.\u001b[39;49m\u001b[43m_clean_keys_and_objs\u001b[49m\u001b[43m(\u001b[49m\u001b[43mobjs\u001b[49m\u001b[43m,\u001b[49m\u001b[43m \u001b[49m\u001b[43mkeys\u001b[49m\u001b[43m)\u001b[49m\n\u001b[1;32m    445\u001b[0m \u001b[38;5;66;03m# figure out what our result ndim is going to be\u001b[39;00m\n\u001b[1;32m    446\u001b[0m ndims \u001b[38;5;241m=\u001b[39m \u001b[38;5;28mself\u001b[39m\u001b[38;5;241m.\u001b[39m_get_ndims(objs)\n",
      "File \u001b[0;32m/opt/conda/lib/python3.11/site-packages/pandas/core/reshape/concat.py:505\u001b[0m, in \u001b[0;36m_Concatenator._clean_keys_and_objs\u001b[0;34m(self, objs, keys)\u001b[0m\n\u001b[1;32m    502\u001b[0m     objs_list \u001b[38;5;241m=\u001b[39m \u001b[38;5;28mlist\u001b[39m(objs)\n\u001b[1;32m    504\u001b[0m \u001b[38;5;28;01mif\u001b[39;00m \u001b[38;5;28mlen\u001b[39m(objs_list) \u001b[38;5;241m==\u001b[39m \u001b[38;5;241m0\u001b[39m:\n\u001b[0;32m--> 505\u001b[0m     \u001b[38;5;28;01mraise\u001b[39;00m \u001b[38;5;167;01mValueError\u001b[39;00m(\u001b[38;5;124m\"\u001b[39m\u001b[38;5;124mNo objects to concatenate\u001b[39m\u001b[38;5;124m\"\u001b[39m)\n\u001b[1;32m    507\u001b[0m \u001b[38;5;28;01mif\u001b[39;00m keys \u001b[38;5;129;01mis\u001b[39;00m \u001b[38;5;28;01mNone\u001b[39;00m:\n\u001b[1;32m    508\u001b[0m     objs_list \u001b[38;5;241m=\u001b[39m \u001b[38;5;28mlist\u001b[39m(com\u001b[38;5;241m.\u001b[39mnot_none(\u001b[38;5;241m*\u001b[39mobjs_list))\n",
      "\u001b[0;31mValueError\u001b[0m: No objects to concatenate"
     ]
    }
   ],
   "source": [
    "# 이상치 유무 확인\n",
    "train.describe()\n",
    "train.describe(include='O')"
   ]
  },
  {
   "cell_type": "code",
   "execution_count": 6,
   "id": "e57d62ce-48f7-4cf0-a591-d96ad7f256dd",
   "metadata": {},
   "outputs": [
    {
     "data": {
      "text/html": [
       "<div>\n",
       "<style scoped>\n",
       "    .dataframe tbody tr th:only-of-type {\n",
       "        vertical-align: middle;\n",
       "    }\n",
       "\n",
       "    .dataframe tbody tr th {\n",
       "        vertical-align: top;\n",
       "    }\n",
       "\n",
       "    .dataframe thead th {\n",
       "        text-align: right;\n",
       "    }\n",
       "</style>\n",
       "<table border=\"1\" class=\"dataframe\">\n",
       "  <thead>\n",
       "    <tr style=\"text-align: right;\">\n",
       "      <th></th>\n",
       "      <th>Gender</th>\n",
       "      <th>family_history_with_overweight</th>\n",
       "      <th>FAVC</th>\n",
       "      <th>CAEC</th>\n",
       "      <th>SMOKE</th>\n",
       "      <th>SCC</th>\n",
       "      <th>CALC</th>\n",
       "      <th>MTRANS</th>\n",
       "      <th>NObeyesdad</th>\n",
       "    </tr>\n",
       "  </thead>\n",
       "  <tbody>\n",
       "    <tr>\n",
       "      <th>count</th>\n",
       "      <td>20758</td>\n",
       "      <td>20758</td>\n",
       "      <td>20758</td>\n",
       "      <td>20758</td>\n",
       "      <td>20758</td>\n",
       "      <td>20758</td>\n",
       "      <td>20758</td>\n",
       "      <td>20758</td>\n",
       "      <td>20758</td>\n",
       "    </tr>\n",
       "    <tr>\n",
       "      <th>unique</th>\n",
       "      <td>2</td>\n",
       "      <td>2</td>\n",
       "      <td>2</td>\n",
       "      <td>4</td>\n",
       "      <td>2</td>\n",
       "      <td>2</td>\n",
       "      <td>3</td>\n",
       "      <td>5</td>\n",
       "      <td>7</td>\n",
       "    </tr>\n",
       "    <tr>\n",
       "      <th>top</th>\n",
       "      <td>Female</td>\n",
       "      <td>yes</td>\n",
       "      <td>yes</td>\n",
       "      <td>Sometimes</td>\n",
       "      <td>no</td>\n",
       "      <td>no</td>\n",
       "      <td>Sometimes</td>\n",
       "      <td>Public_Transportation</td>\n",
       "      <td>Obesity_Type_III</td>\n",
       "    </tr>\n",
       "    <tr>\n",
       "      <th>freq</th>\n",
       "      <td>10422</td>\n",
       "      <td>17014</td>\n",
       "      <td>18982</td>\n",
       "      <td>17529</td>\n",
       "      <td>20513</td>\n",
       "      <td>20071</td>\n",
       "      <td>15066</td>\n",
       "      <td>16687</td>\n",
       "      <td>4046</td>\n",
       "    </tr>\n",
       "  </tbody>\n",
       "</table>\n",
       "</div>"
      ],
      "text/plain": [
       "        Gender family_history_with_overweight   FAVC       CAEC  SMOKE    SCC  \\\n",
       "count    20758                          20758  20758      20758  20758  20758   \n",
       "unique       2                              2      2          4      2      2   \n",
       "top     Female                            yes    yes  Sometimes     no     no   \n",
       "freq     10422                          17014  18982      17529  20513  20071   \n",
       "\n",
       "             CALC                 MTRANS        NObeyesdad  \n",
       "count       20758                  20758             20758  \n",
       "unique          3                      5                 7  \n",
       "top     Sometimes  Public_Transportation  Obesity_Type_III  \n",
       "freq        15066                  16687              4046  "
      ]
     },
     "execution_count": 6,
     "metadata": {},
     "output_type": "execute_result"
    }
   ],
   "source": [
    "# 이상치 유무 확인\n",
    "test.describe()\n",
    "train.describe(include='O')"
   ]
  },
  {
   "cell_type": "code",
   "execution_count": 7,
   "id": "bfddce2d-4813-4699-b94b-f98ff5663e76",
   "metadata": {},
   "outputs": [
    {
     "data": {
      "text/plain": [
       "NObeyesdad\n",
       "Obesity_Type_III       4046\n",
       "Obesity_Type_II        3248\n",
       "Normal_Weight          3082\n",
       "Obesity_Type_I         2910\n",
       "Insufficient_Weight    2523\n",
       "Overweight_Level_II    2522\n",
       "Overweight_Level_I     2427\n",
       "Name: count, dtype: int64"
      ]
     },
     "execution_count": 7,
     "metadata": {},
     "output_type": "execute_result"
    }
   ],
   "source": [
    "# train의 y값 확인\n",
    "# train.info()\n",
    "train[\"NObeyesdad\"].value_counts()"
   ]
  },
  {
   "cell_type": "code",
   "execution_count": 35,
   "id": "bb0e3129-4470-44b7-a8b8-f38ef7a2497b",
   "metadata": {},
   "outputs": [],
   "source": [
    "# 분리하고 카테고리"
   ]
  },
  {
   "cell_type": "code",
   "execution_count": null,
   "id": "b84dd425-9431-4c5c-9cc7-4933d245423a",
   "metadata": {},
   "outputs": [],
   "source": [
    "# 데이터전처리 \n",
    "\n",
    "# 이상치, 결측치 생략"
   ]
  },
  {
   "cell_type": "code",
   "execution_count": 8,
   "id": "8ea0b3a9-c9b1-43fc-a4f0-028c3468f422",
   "metadata": {},
   "outputs": [],
   "source": [
    "# id컬럼 제거\n",
    "train = train.drop(columns=['id'])\n",
    "test = test.drop(columns=['id'])"
   ]
  },
  {
   "cell_type": "code",
   "execution_count": 9,
   "id": "f9f23789-9486-4a13-b762-f8ee6cb51d9b",
   "metadata": {},
   "outputs": [
    {
     "name": "stdout",
     "output_type": "stream",
     "text": [
      "<class 'pandas.core.series.Series'>\n",
      "RangeIndex: 20758 entries, 0 to 20757\n",
      "Series name: NObeyesdad\n",
      "Non-Null Count  Dtype   \n",
      "--------------  -----   \n",
      "20758 non-null  category\n",
      "dtypes: category(1)\n",
      "memory usage: 20.7 KB\n"
     ]
    }
   ],
   "source": [
    "# y값분리\n",
    "target = train.pop('NObeyesdad')\n",
    "# dtype -> 카테고리뱐환\n",
    "target = target.astype('category')\n",
    "target.info()"
   ]
  },
  {
   "cell_type": "code",
   "execution_count": null,
   "id": "7009300f-9f8e-4ed4-bf82-4a2099957f1f",
   "metadata": {},
   "outputs": [],
   "source": [
    "# target/test의 object -> category로 변환"
   ]
  },
  {
   "cell_type": "code",
   "execution_count": 15,
   "id": "c3d9a6bf-454d-41f2-bb59-6f2a2020b1f6",
   "metadata": {},
   "outputs": [
    {
     "name": "stdout",
     "output_type": "stream",
     "text": [
      "<class 'pandas.core.frame.DataFrame'>\n",
      "RangeIndex: 20758 entries, 0 to 20757\n",
      "Data columns (total 16 columns):\n",
      " #   Column                          Non-Null Count  Dtype   \n",
      "---  ------                          --------------  -----   \n",
      " 0   Gender                          20758 non-null  category\n",
      " 1   Age                             20758 non-null  float64 \n",
      " 2   Height                          20758 non-null  float64 \n",
      " 3   Weight                          20758 non-null  float64 \n",
      " 4   family_history_with_overweight  20758 non-null  category\n",
      " 5   FAVC                            20758 non-null  category\n",
      " 6   FCVC                            20758 non-null  float64 \n",
      " 7   NCP                             20758 non-null  float64 \n",
      " 8   CAEC                            20758 non-null  category\n",
      " 9   SMOKE                           20758 non-null  category\n",
      " 10  CH2O                            20758 non-null  float64 \n",
      " 11  SCC                             20758 non-null  category\n",
      " 12  FAF                             20758 non-null  float64 \n",
      " 13  TUE                             20758 non-null  float64 \n",
      " 14  CALC                            20758 non-null  category\n",
      " 15  MTRANS                          20758 non-null  category\n",
      "dtypes: category(8), float64(8)\n",
      "memory usage: 1.4 MB\n"
     ]
    }
   ],
   "source": [
    "train.info() # 카테고리로 하나 pop헀으므로 16개로 됨\n",
    "# train object에서 category로 변경\n",
    "train['Gender'] = train['Gender'].astype('category')\n",
    "train['family_history_with_overweight'] = train['family_history_with_overweight'].astype('category')\n",
    "train['FAVC'] = train['FAVC'].astype('category')\n",
    "train['CAEC'] = train['CAEC'].astype('category')\n",
    "train['SMOKE'] = train['SMOKE'].astype('category')\n",
    "train['SCC'] = train['SCC'].astype('category')\n",
    "train['CALC'] = train['CALC'].astype('category')\n",
    "train['MTRANS'] = train['MTRANS'].astype('category')\n",
    "# test object에서 category로 변경\n",
    "test['Gender'] = test['Gender'].astype('category')\n",
    "test['family_history_with_overweight'] = test['family_history_with_overweight'].astype('category')\n",
    "test['FAVC'] = test['FAVC'].astype('category')\n",
    "test['CAEC'] = test['CAEC'].astype('category')\n",
    "test['SMOKE'] = test['SMOKE'].astype('category')\n",
    "test['SCC'] = test['SCC'].astype('category')\n",
    "test['CALC'] = test['CALC'].astype('category')\n",
    "test['MTRANS'] = test['MTRANS'].astype('category')"
   ]
  },
  {
   "cell_type": "code",
   "execution_count": 29,
   "id": "259e2eb0-b861-4193-bfa3-e5156543c018",
   "metadata": {},
   "outputs": [
    {
     "data": {
      "text/plain": [
       "((16606, 16), (4152, 16), (20758,), (4152,))"
      ]
     },
     "execution_count": 29,
     "metadata": {},
     "output_type": "execute_result"
    }
   ],
   "source": [
    "# ------------------\n",
    "# 검증데이터 분할\n",
    "# ------------------\n",
    "from sklearn.model_selection import train_test_split\n",
    "X_train, X_val, y_train, y_val = train_test_split(\n",
    "    train,\n",
    "    target,\n",
    "    test_size=0.2,\n",
    "    random_state=0)\n",
    "X_train.shape, X_val.shape, target.shape, y_val.shape"
   ]
  },
  {
   "cell_type": "code",
   "execution_count": null,
   "id": "a501e13a-e680-4be7-8467-dcd61daa3559",
   "metadata": {},
   "outputs": [],
   "source": [
    "# ------------------\n",
    "# 모델 학습 및 평가\n",
    "# ------------------"
   ]
  },
  {
   "cell_type": "code",
   "execution_count": 30,
   "id": "80a1f433-7c58-4f98-b3e7-6033698cfb8c",
   "metadata": {},
   "outputs": [],
   "source": [
    "import lightgbm as lgb\n",
    "# 학습\n",
    "lgbmc = lgb.LGBMClassifier(random_state=0, verbose=-1)\n",
    "lgbmc.fit(X_train, y_train)\n",
    "# 검증\n",
    "pred=lgbmc.predict(X_val) # 라벨만\n",
    "pred_proba=lgbmc.predict_proba(X_val) # 확률값\n",
    "\n",
    "# vervose : 학습 과정 출력여부(-1 : 출력 안함)\n",
    "# 0 : 경고 수준출력, 1: 일반정보 출력, >1 : 자세한 정보 출력"
   ]
  },
  {
   "cell_type": "code",
   "execution_count": 31,
   "id": "106abd85-5638-4870-8526-64dbc8c2a6f2",
   "metadata": {},
   "outputs": [
    {
     "name": "stdout",
     "output_type": "stream",
     "text": [
      "roc_auc_ovr :  0.9888169248146651\n",
      "roc_auc_ovo :  0.9874571729788963\n",
      "f1 :  0.8949765427420396\n"
     ]
    }
   ],
   "source": [
    "# 평가(roc_auc, accuracy, f1-score)\n",
    "from sklearn.metrics import roc_auc_score, f1_score, accuracy_score\n",
    "\n",
    "roc_auc_ovr = roc_auc_score(y_val, pred_proba, multi_class='ovr')\n",
    "roc_auc_ovo = roc_auc_score(y_val, pred_proba, multi_class='ovo')\n",
    "accuracy= accuracy_score(y_val, pred)\n",
    "f1 = f1_score(y_val, pred, average='macro')\n",
    "\n",
    "print('roc_auc_ovr : ', roc_auc_ovr)\n",
    "print('roc_auc_ovo : ', roc_auc_ovo)\n",
    "print('f1 : ', f1)\n"
   ]
  },
  {
   "cell_type": "code",
   "execution_count": null,
   "id": "556372f4-d43e-470b-bce9-bf6ad2a5a776",
   "metadata": {},
   "outputs": [],
   "source": [
    "#--------------------------\n",
    "# 예측 파일 제출(.csv)\n",
    "#--------------------------\n",
    "pred_submit=lgbmc.predict(test)\n",
    "pred_submit\n",
    "\n",
    "submit_csv = pd.DataFrame({'pred' : pred_submit})\n",
    "submit_csv.to_csv(\"result.csv\",index=False)"
   ]
  }
 ],
 "metadata": {
  "kernelspec": {
   "display_name": "Python 3 (ipykernel)",
   "language": "python",
   "name": "python3"
  },
  "language_info": {
   "codemirror_mode": {
    "name": "ipython",
    "version": 3
   },
   "file_extension": ".py",
   "mimetype": "text/x-python",
   "name": "python",
   "nbconvert_exporter": "python",
   "pygments_lexer": "ipython3",
   "version": "3.11.6"
  }
 },
 "nbformat": 4,
 "nbformat_minor": 5
}
