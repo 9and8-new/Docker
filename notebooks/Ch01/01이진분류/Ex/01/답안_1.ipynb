{
 "cells": [
  {
   "cell_type": "code",
   "execution_count": 10,
   "id": "b8af6609-fb4d-44ce-b7b2-d1065c040840",
   "metadata": {},
   "outputs": [],
   "source": [
    "# 판다스 라이브러리\n",
    "import pandas as pd\n",
    "\n",
    "# 데이터 불러오기\n",
    "train = pd.read_csv('./train.csv')\n",
    "test = pd.read_csv('./test.csv')"
   ]
  },
  {
   "cell_type": "code",
   "execution_count": 14,
   "id": "833101bc-9dc9-41b9-b4de-b6c67963b86e",
   "metadata": {},
   "outputs": [
    {
     "data": {
      "text/plain": [
       "Exited\n",
       "0    130113\n",
       "1     34921\n",
       "Name: count, dtype: int64"
      ]
     },
     "execution_count": 14,
     "metadata": {},
     "output_type": "execute_result"
    }
   ],
   "source": [
    "# #---------------------------------------\n",
    "# # EDA\n",
    "# #---------------------------------------\n",
    "# # 데이터 샘플\n",
    "# train.head(n)\n",
    "# train.tail(n)\n",
    "# train.sample(n)\n",
    "# # 데이터 크기\n",
    "# train.shape, test.shape\n",
    "# # 자료형 (타입)\n",
    "# train.info()\n",
    "# # 수치형 컬럼 통계값 확인(train)\n",
    "# train.describe()\n",
    "# # 수치형 컬럼 통계값 확인(test)\n",
    "# test.describe()\n",
    "# # 범주형 컬럼 통계값 확인 (train)\n",
    "# train.describe(include='O')\n",
    "# # 범주형 컬럼 통계값 확인 (test)\n",
    "# test.describe(include='object')\n",
    "# # 결측치 (train)\n",
    "# train.isnull().sum()\n",
    "# # 결측치 (test)\n",
    "# test.isnull().sum()\n",
    "# # label(target)별 개수 확인\n",
    "train['Exited'].value_counts()"
   ]
  },
  {
   "cell_type": "code",
   "execution_count": 23,
   "id": "edc9845e-c1e1-4d6c-b25b-2990bede0cc8",
   "metadata": {},
   "outputs": [
    {
     "ename": "AttributeError",
     "evalue": "module 'pandas' has no attribute 'concak'",
     "output_type": "error",
     "traceback": [
      "\u001b[0;31m---------------------------------------------------------------------------\u001b[0m",
      "\u001b[0;31mAttributeError\u001b[0m                            Traceback (most recent call last)",
      "Cell \u001b[0;32mIn[23], line 29\u001b[0m\n\u001b[1;32m     27\u001b[0m \u001b[38;5;28;01mfor\u001b[39;00m col \u001b[38;5;129;01min\u001b[39;00m cols:\n\u001b[1;32m     28\u001b[0m     le \u001b[38;5;241m=\u001b[39m LabelEncoder()\n\u001b[0;32m---> 29\u001b[0m     le\u001b[38;5;241m.\u001b[39mfit(\u001b[43mpd\u001b[49m\u001b[38;5;241;43m.\u001b[39;49m\u001b[43mconcak\u001b[49m([train[col],text[col]],axis\u001b[38;5;241m=\u001b[39m\u001b[38;5;241m0\u001b[39m)) \u001b[38;5;66;03m# 행합치기\u001b[39;00m\n\u001b[1;32m     30\u001b[0m     train[col] \u001b[38;5;241m=\u001b[39m le\u001b[38;5;241m.\u001b[39mtransform(train[col])\n\u001b[1;32m     31\u001b[0m     text[col] \u001b[38;5;241m=\u001b[39m le\u001b[38;5;241m.\u001b[39mtransform(text[col])\n",
      "\u001b[0;31mAttributeError\u001b[0m: module 'pandas' has no attribute 'concak'"
     ]
    }
   ],
   "source": [
    "#-----------------------------------\n",
    "# 데이터 전처리\n",
    "#-----------------------------------\n",
    "\n",
    "#-----------------------------------\n",
    "# 결측치 처리 - X\n",
    "#-----------------------------------\n",
    "\n",
    "#-----------------------------------\n",
    "# 이상치 - X\n",
    "#-----------------------------------\n",
    "\n",
    "#-----------------------------------\n",
    "# 인코딩\n",
    "#-----------------------------------\n",
    "\n",
    "# 라벨(정답,y값)분리\n",
    "# y_train = train.pop(\"Exited\")\n",
    "train\n",
    "train.shape, test.shape\n",
    "\n",
    "#-----------------------------------\n",
    "# 레이블인코딩\n",
    "#-----------------------------------\n",
    "from sklearn.preprocessing import LabelEncoder\n",
    "cols = train.columns[train.dtypes == object]\n",
    "for col in cols:\n",
    "    le = LabelEncoder()\n",
    "    le.fit(pd.concak([train[col],text[col]],axis=0)) # 행합치기\n",
    "    train[col] = le.transform(train[col])\n",
    "    text[col] = le.transform(text[col])"
   ]
  },
  {
   "cell_type": "code",
   "execution_count": null,
   "id": "2d73c9e4-f470-49b8-a075-9409342de914",
   "metadata": {},
   "outputs": [],
   "source": []
  }
 ],
 "metadata": {
  "kernelspec": {
   "display_name": "Python 3 (ipykernel)",
   "language": "python",
   "name": "python3"
  },
  "language_info": {
   "codemirror_mode": {
    "name": "ipython",
    "version": 3
   },
   "file_extension": ".py",
   "mimetype": "text/x-python",
   "name": "python",
   "nbconvert_exporter": "python",
   "pygments_lexer": "ipython3",
   "version": "3.11.6"
  }
 },
 "nbformat": 4,
 "nbformat_minor": 5
}
