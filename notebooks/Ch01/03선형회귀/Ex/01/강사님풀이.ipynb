{
 "cells": [
  {
   "cell_type": "code",
   "execution_count": null,
   "id": "bbcf7442-b3d7-4ffe-b13b-0ce83cf4975c",
   "metadata": {},
   "outputs": [],
   "source": [
    "# 문제정의(KAGGLE : https://www.kaggle.com/competitions/house-prices-advanced-regression-techniques/overview)\n",
    "\n",
    "# ---------------------------\n",
    "## 1. 해결과제\n",
    "# ---------------------------\n",
    "# - 주어진 주택 데이터(물리적 특성 + 주변 환경)를 이용해 **최종 판매 가격(SalePrice)** 예측\n",
    "# - 단순 선형 회귀가 아니라 다양한 회귀 기법을 적용해 성능 최적화가 목표\n",
    "\n",
    "# ---------------------------\n",
    "# 2. 타겟 변수\n",
    "# ---------------------------\n",
    "# - **SalePrice**  \n",
    "# - 주택의 실제 판매 가격 (회귀 문제의 종속 변수)\n",
    "\n",
    "# ---------------------------\n",
    "# 3 데이터셋 컬럼 정리\n",
    "# ---------------------------\n",
    "# ## 1). ID / Target\n",
    "# - **Id**: 샘플 고유 번호\n",
    "# - **SalePrice**: 주택 판매 가격 (타겟 변수, train에만 존재)\n",
    "\n",
    "# ---\n",
    "\n",
    "# ## 2). 주택 일반 정보\n",
    "# - **MSSubClass**: 건물 클래스 (주택 유형 코드)\n",
    "# - **MSZoning**: 구역 분류 (주거, 상업 등)\n",
    "# - **Street**: 도로 종류 (포장/비포장)\n",
    "# - **Alley**: 골목 접근 유형\n",
    "# - **LotFrontage**: 도로와 접한 면적 길이 (ft)\n",
    "# - **LotArea**: 대지 면적 (sq ft)\n",
    "# - **LotShape**: 대지 형태 (정방형/불규칙 등)\n",
    "# - **LandContour**: 지형 윤곽 (평지, 경사 등)\n",
    "# - **Utilities**: 사용 가능한 설비 (전기, 수도 등)\n",
    "# - **LotConfig**: 대지 구성 (독립, 구석, 4면도로 등)\n",
    "# - **LandSlope**: 대지 경사 정도\n",
    "# - **Neighborhood**: 주택이 위치한 동네\n",
    "# - **Condition1**: 주요 도로/철도 근접 조건\n",
    "# - **Condition2**: 보조 도로/철도 근접 조건\n",
    "# - **BldgType**: 건물 유형 (단독, 연립, 아파트 등)\n",
    "# - **HouseStyle**: 주택 스타일 (1층, 2층, 다층 등)\n",
    "\n",
    "# ---\n",
    "\n",
    "# ## 3). 건축 관련\n",
    "# - **OverallQual**: 전반적 자재와 마감 품질 (1~10)\n",
    "# - **OverallCond**: 전반적 주택 상태 (1~10)\n",
    "# - **YearBuilt**: 건축 연도\n",
    "# - **YearRemodAdd**: 리모델링 연도\n",
    "# - **RoofStyle**: 지붕 형태\n",
    "# - **RoofMatl**: 지붕 자재\n",
    "# - **Exterior1st**: 외장재 1\n",
    "# - **Exterior2nd**: 외장재 2\n",
    "# - **MasVnrType**: 벽돌 베니어 유형\n",
    "# - **MasVnrArea**: 벽돌 베니어 면적 (sq ft)\n",
    "# - **ExterQual**: 외장재 품질\n",
    "# - **ExterCond**: 외장재 상태\n",
    "\n",
    "# ---\n",
    "\n",
    "# ## 4). 기초/지하\n",
    "# - **Foundation**: 기초 유형\n",
    "# - **BsmtQual**: 지하 높이\n",
    "# - **BsmtCond**: 지하 상태\n",
    "# - **BsmtExposure**: 지하 채광 정도\n",
    "# - **BsmtFinType1**: 지하 마감 유형 1\n",
    "# - **BsmtFinSF1**: 지하 마감 면적 1 (sq ft)\n",
    "# - **BsmtFinType2**: 지하 마감 유형 2\n",
    "# - **BsmtFinSF2**: 지하 마감 면적 2 (sq ft)\n",
    "# - **BsmtUnfSF**: 지하 미마감 면적 (sq ft)\n",
    "# - **TotalBsmtSF**: 지하 전체 면적 (sq ft)\n",
    "\n",
    "# ---\n",
    "\n",
    "# ## 5). 생활 공간\n",
    "# - **Heating**: 난방 종류\n",
    "# - **HeatingQC**: 난방 품질\n",
    "# - **CentralAir**: 중앙 에어컨 유무\n",
    "# - **Electrical**: 전기 시스템\n",
    "# - **1stFlrSF**: 1층 면적 (sq ft)\n",
    "# - **2ndFlrSF**: 2층 면적 (sq ft)\n",
    "# - **LowQualFinSF**: 낮은 품질 마감 면적 (sq ft)\n",
    "# - **GrLivArea**: 지상 생활 면적 (sq ft)\n",
    "\n",
    "# ---\n",
    "\n",
    "# ## 6). 방 관련\n",
    "# - **BsmtFullBath**: 지하 전체 욕실 개수\n",
    "# - **BsmtHalfBath**: 지하 반 욕실 개수\n",
    "# - **FullBath**: 전체 욕실 개수\n",
    "# - **HalfBath**: 반 욕실 개수\n",
    "# - **BedroomAbvGr**: 지상 침실 개수\n",
    "# - **KitchenAbvGr**: 지상 주방 개수\n",
    "# - **KitchenQual**: 주방 품질\n",
    "# - **TotRmsAbvGrd**: 지상 전체 방 개수\n",
    "# - **Functional**: 주택 기능 상태 (정상/이상 등)\n",
    "\n",
    "# ---\n",
    "\n",
    "# ## 7). 기타 공간\n",
    "# - **Fireplaces**: 벽난로 개수\n",
    "# - **FireplaceQu**: 벽난로 품질\n",
    "# - **GarageType**: 차고 유형\n",
    "# - **GarageYrBlt**: 차고 건축 연도\n",
    "# - **GarageFinish**: 차고 내부 마감\n",
    "# - **GarageCars**: 차고 차량 수용 가능 대수\n",
    "# - **GarageArea**: 차고 면적 (sq ft)\n",
    "# - **GarageQual**: 차고 품질\n",
    "# - **GarageCond**: 차고 상태\n",
    "# - **PavedDrive**: 포장 진입로 여부\n",
    "\n",
    "# ---\n",
    "\n",
    "# ## 8). 외부/부속 공간\n",
    "# - **WoodDeckSF**: 목재 데크 면적 (sq ft)\n",
    "# - **OpenPorchSF**: 오픈 현관 면적 (sq ft)\n",
    "# - **EnclosedPorch**: 밀폐 현관 면적 (sq ft)\n",
    "# - **3SsnPorch**: 3계절용 현관 면적 (sq ft)\n",
    "# - **ScreenPorch**: 스크린 현관 면적 (sq ft)\n",
    "# - **PoolArea**: 수영장 면적 (sq ft)\n",
    "# - **PoolQC**: 수영장 품질\n",
    "# - **Fence**: 울타리 품질\n",
    "# - **MiscFeature**: 기타 특이 시설\n",
    "# - **MiscVal**: 기타 시설 가치\n",
    "\n",
    "# ---\n",
    "\n",
    "# ## 9). 판매 정보\n",
    "# - **MoSold**: 판매 월\n",
    "# - **YrSold**: 판매 연도\n",
    "# - **SaleType**: 판매 유형\n",
    "# - **SaleCondition**: 판매 조건\n"
   ]
  },
  {
   "cell_type": "code",
   "execution_count": null,
   "id": "6806a37a-0b20-4369-b3d2-c57d2d4f06a0",
   "metadata": {},
   "outputs": [],
   "source": [
    "# ---------------------------------\n",
    "# 라이브러리 가져오기\n",
    "# ---------------------------------"
   ]
  },
  {
   "cell_type": "code",
   "execution_count": 1,
   "id": "5179b335-a50b-4f10-9add-b1975ccc75a4",
   "metadata": {},
   "outputs": [],
   "source": [
    "import pandas as pd\n",
    "train = pd.read_csv(\"train.csv\")\n",
    "test = pd.read_csv(\"test.csv\")"
   ]
  },
  {
   "cell_type": "code",
   "execution_count": null,
   "id": "e652879b-3b12-44ba-a235-78cb0d6bfef7",
   "metadata": {},
   "outputs": [],
   "source": [
    "# ---------------------------------\n",
    "# EDA\n",
    "# ---------------------------------"
   ]
  },
  {
   "cell_type": "code",
   "execution_count": 6,
   "id": "8867058a-f464-4a93-a7f8-cd168e0c401c",
   "metadata": {},
   "outputs": [
    {
     "data": {
      "text/plain": [
       "((1460, 81), (1459, 80))"
      ]
     },
     "execution_count": 6,
     "metadata": {},
     "output_type": "execute_result"
    }
   ],
   "source": [
    "train.shape, test.shape"
   ]
  },
  {
   "cell_type": "code",
   "execution_count": null,
   "id": "843c4b0e-77ce-4436-a29a-ecde51f8d807",
   "metadata": {},
   "outputs": [],
   "source": [
    "train.head()\n",
    "train.tail()\n",
    "train.sample(5)\n",
    "\n",
    "test.head()\n",
    "test.tail()\n",
    "test.sample(5)"
   ]
  },
  {
   "cell_type": "code",
   "execution_count": null,
   "id": "8a823fb8-9d32-4280-ba4f-1b77298e73c4",
   "metadata": {},
   "outputs": [],
   "source": [
    "train.shape, test.shape"
   ]
  },
  {
   "cell_type": "code",
   "execution_count": null,
   "id": "ac96894b-0d66-45c9-b670-225ea7f8049b",
   "metadata": {},
   "outputs": [],
   "source": [
    "# train.info()\n",
    "test.info()"
   ]
  },
  {
   "cell_type": "code",
   "execution_count": null,
   "id": "4fa7b78e-18cb-4662-8c25-f6097aa5f7e3",
   "metadata": {},
   "outputs": [],
   "source": [
    "train.describe()\n",
    "train.describe(incluse='O')"
   ]
  },
  {
   "cell_type": "code",
   "execution_count": 8,
   "id": "c6ffabdc-de96-45cd-a31a-43c66bc46e89",
   "metadata": {},
   "outputs": [
    {
     "data": {
      "text/plain": [
       "Id                 0\n",
       "MSSubClass         0\n",
       "MSZoning           0\n",
       "LotFrontage      259\n",
       "LotArea            0\n",
       "                ... \n",
       "MoSold             0\n",
       "YrSold             0\n",
       "SaleType           0\n",
       "SaleCondition      0\n",
       "SalePrice          0\n",
       "Length: 81, dtype: int64"
      ]
     },
     "execution_count": 8,
     "metadata": {},
     "output_type": "execute_result"
    }
   ],
   "source": [
    "# train.isnull().sum()\n",
    "# print(train.isnull().sum().to_string())\n",
    "\n",
    "test.isnull().sum()\n",
    "print(test.isnull().sum().to_string())"
   ]
  },
  {
   "cell_type": "code",
   "execution_count": null,
   "id": "6418efc9-4eff-447f-986a-3cd63f0eb838",
   "metadata": {},
   "outputs": [],
   "source": []
  },
  {
   "cell_type": "code",
   "execution_count": null,
   "id": "2a87ff2b-b293-4351-a74f-e30f6e2ccb31",
   "metadata": {},
   "outputs": [],
   "source": [
    "# ---------------------------------\n",
    "# 데이터 전처리\n",
    "# ---------------------------------"
   ]
  },
  {
   "cell_type": "code",
   "execution_count": null,
   "id": "8e6402d4-af68-4669-bd32-cc865e5fecdb",
   "metadata": {},
   "outputs": [],
   "source": []
  },
  {
   "cell_type": "code",
   "execution_count": null,
   "id": "e037e709-0dcf-4c5e-9bfe-80d8d3600a28",
   "metadata": {},
   "outputs": [],
   "source": [
    "# ---------------------------------\n",
    "# 검증 데이터 분할 train - val (8,2)\n",
    "# ---------------------------------"
   ]
  },
  {
   "cell_type": "code",
   "execution_count": null,
   "id": "cc19ca19-60db-416a-b3b7-dfbee2aa47e6",
   "metadata": {},
   "outputs": [],
   "source": []
  },
  {
   "cell_type": "code",
   "execution_count": null,
   "id": "287ef741-5ce7-4c5a-aa7b-6c71f75a98cb",
   "metadata": {},
   "outputs": [],
   "source": []
  },
  {
   "cell_type": "code",
   "execution_count": 5,
   "id": "1427c2d3-205f-4c5c-90e6-e8b6890d79ff",
   "metadata": {},
   "outputs": [
    {
     "name": "stdout",
     "output_type": "stream",
     "text": [
      "<class 'pandas.core.frame.DataFrame'>\n",
      "RangeIndex: 1459 entries, 0 to 1458\n",
      "Data columns (total 80 columns):\n",
      " #   Column         Non-Null Count  Dtype  \n",
      "---  ------         --------------  -----  \n",
      " 0   Id             1459 non-null   int64  \n",
      " 1   MSSubClass     1459 non-null   int64  \n",
      " 2   MSZoning       1455 non-null   object \n",
      " 3   LotFrontage    1232 non-null   float64\n",
      " 4   LotArea        1459 non-null   int64  \n",
      " 5   Street         1459 non-null   object \n",
      " 6   Alley          107 non-null    object \n",
      " 7   LotShape       1459 non-null   object \n",
      " 8   LandContour    1459 non-null   object \n",
      " 9   Utilities      1457 non-null   object \n",
      " 10  LotConfig      1459 non-null   object \n",
      " 11  LandSlope      1459 non-null   object \n",
      " 12  Neighborhood   1459 non-null   object \n",
      " 13  Condition1     1459 non-null   object \n",
      " 14  Condition2     1459 non-null   object \n",
      " 15  BldgType       1459 non-null   object \n",
      " 16  HouseStyle     1459 non-null   object \n",
      " 17  OverallQual    1459 non-null   int64  \n",
      " 18  OverallCond    1459 non-null   int64  \n",
      " 19  YearBuilt      1459 non-null   int64  \n",
      " 20  YearRemodAdd   1459 non-null   int64  \n",
      " 21  RoofStyle      1459 non-null   object \n",
      " 22  RoofMatl       1459 non-null   object \n",
      " 23  Exterior1st    1458 non-null   object \n",
      " 24  Exterior2nd    1458 non-null   object \n",
      " 25  MasVnrType     565 non-null    object \n",
      " 26  MasVnrArea     1444 non-null   float64\n",
      " 27  ExterQual      1459 non-null   object \n",
      " 28  ExterCond      1459 non-null   object \n",
      " 29  Foundation     1459 non-null   object \n",
      " 30  BsmtQual       1415 non-null   object \n",
      " 31  BsmtCond       1414 non-null   object \n",
      " 32  BsmtExposure   1415 non-null   object \n",
      " 33  BsmtFinType1   1417 non-null   object \n",
      " 34  BsmtFinSF1     1458 non-null   float64\n",
      " 35  BsmtFinType2   1417 non-null   object \n",
      " 36  BsmtFinSF2     1458 non-null   float64\n",
      " 37  BsmtUnfSF      1458 non-null   float64\n",
      " 38  TotalBsmtSF    1458 non-null   float64\n",
      " 39  Heating        1459 non-null   object \n",
      " 40  HeatingQC      1459 non-null   object \n",
      " 41  CentralAir     1459 non-null   object \n",
      " 42  Electrical     1459 non-null   object \n",
      " 43  1stFlrSF       1459 non-null   int64  \n",
      " 44  2ndFlrSF       1459 non-null   int64  \n",
      " 45  LowQualFinSF   1459 non-null   int64  \n",
      " 46  GrLivArea      1459 non-null   int64  \n",
      " 47  BsmtFullBath   1457 non-null   float64\n",
      " 48  BsmtHalfBath   1457 non-null   float64\n",
      " 49  FullBath       1459 non-null   int64  \n",
      " 50  HalfBath       1459 non-null   int64  \n",
      " 51  BedroomAbvGr   1459 non-null   int64  \n",
      " 52  KitchenAbvGr   1459 non-null   int64  \n",
      " 53  KitchenQual    1458 non-null   object \n",
      " 54  TotRmsAbvGrd   1459 non-null   int64  \n",
      " 55  Functional     1457 non-null   object \n",
      " 56  Fireplaces     1459 non-null   int64  \n",
      " 57  FireplaceQu    729 non-null    object \n",
      " 58  GarageType     1383 non-null   object \n",
      " 59  GarageYrBlt    1381 non-null   float64\n",
      " 60  GarageFinish   1381 non-null   object \n",
      " 61  GarageCars     1458 non-null   float64\n",
      " 62  GarageArea     1458 non-null   float64\n",
      " 63  GarageQual     1381 non-null   object \n",
      " 64  GarageCond     1381 non-null   object \n",
      " 65  PavedDrive     1459 non-null   object \n",
      " 66  WoodDeckSF     1459 non-null   int64  \n",
      " 67  OpenPorchSF    1459 non-null   int64  \n",
      " 68  EnclosedPorch  1459 non-null   int64  \n",
      " 69  3SsnPorch      1459 non-null   int64  \n",
      " 70  ScreenPorch    1459 non-null   int64  \n",
      " 71  PoolArea       1459 non-null   int64  \n",
      " 72  PoolQC         3 non-null      object \n",
      " 73  Fence          290 non-null    object \n",
      " 74  MiscFeature    51 non-null     object \n",
      " 75  MiscVal        1459 non-null   int64  \n",
      " 76  MoSold         1459 non-null   int64  \n",
      " 77  YrSold         1459 non-null   int64  \n",
      " 78  SaleType       1458 non-null   object \n",
      " 79  SaleCondition  1459 non-null   object \n",
      "dtypes: float64(11), int64(26), object(43)\n",
      "memory usage: 912.0+ KB\n"
     ]
    }
   ],
   "source": []
  },
  {
   "cell_type": "code",
   "execution_count": null,
   "id": "d879e80f-2616-419d-ba85-af72ff41aa7f",
   "metadata": {},
   "outputs": [],
   "source": []
  },
  {
   "cell_type": "code",
   "execution_count": null,
   "id": "85282a53-1699-4135-b239-617b150e3f6e",
   "metadata": {},
   "outputs": [],
   "source": []
  },
  {
   "cell_type": "code",
   "execution_count": null,
   "id": "a68fb8f7-dc59-4ce9-9377-624bc633e5b9",
   "metadata": {},
   "outputs": [],
   "source": []
  },
  {
   "cell_type": "code",
   "execution_count": null,
   "id": "8b219fe5-f799-4a18-83e9-6384ae108451",
   "metadata": {},
   "outputs": [],
   "source": [
    "# ---------------------------------\n",
    "# 학습 및 평가(MSE, MAE , R2..)\n",
    "# ---------------------------------"
   ]
  },
  {
   "cell_type": "code",
   "execution_count": null,
   "id": "3909c450-0b5d-4dcf-af61-5e84749dc871",
   "metadata": {},
   "outputs": [],
   "source": []
  },
  {
   "cell_type": "code",
   "execution_count": null,
   "id": "9955d8b8-954b-407c-9b88-77b0ee2f054f",
   "metadata": {},
   "outputs": [],
   "source": [
    "# ---------------------------------\n",
    "# 파일로 저장\n",
    "# ---------------------------------"
   ]
  }
 ],
 "metadata": {
  "kernelspec": {
   "display_name": "Python 3 (ipykernel)",
   "language": "python",
   "name": "python3"
  },
  "language_info": {
   "codemirror_mode": {
    "name": "ipython",
    "version": 3
   },
   "file_extension": ".py",
   "mimetype": "text/x-python",
   "name": "python",
   "nbconvert_exporter": "python",
   "pygments_lexer": "ipython3",
   "version": "3.11.6"
  }
 },
 "nbformat": 4,
 "nbformat_minor": 5
}
